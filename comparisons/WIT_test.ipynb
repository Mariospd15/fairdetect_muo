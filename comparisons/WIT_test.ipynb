{
 "cells": [
  {
   "cell_type": "markdown",
   "id": "ab799d86",
   "metadata": {},
   "source": [
    "# EXAMPLE 1 - IRIS DATASET \n",
    "\n",
    "Based on https://groups.google.com/g/what-if-tool/c/rJfRorMqODc?pli=1\n",
    "\n",
    "The issue is that WIT was made for Tensor Flow models and need some adaptation to work with Sklearn"
   ]
  },
  {
   "cell_type": "code",
   "execution_count": 1,
   "id": "66adc152",
   "metadata": {},
   "outputs": [],
   "source": [
    "from sklearn.datasets import load_iris \n",
    "iris = load_iris()\n",
    "X = iris.data  \n",
    "Y = iris.target\n"
   ]
  },
  {
   "cell_type": "code",
   "execution_count": null,
   "id": "6182a1f5",
   "metadata": {},
   "outputs": [],
   "source": []
  },
  {
   "cell_type": "code",
   "execution_count": 2,
   "id": "e88a2f1b",
   "metadata": {},
   "outputs": [],
   "source": [
    "from sklearn.model_selection import train_test_split\n",
    "train_x, test_x, train_y, test_y = train_test_split(\n",
    "    X, Y, test_size=0.2\n",
    ")\n",
    "\n"
   ]
  },
  {
   "cell_type": "code",
   "execution_count": 3,
   "id": "e97d7793",
   "metadata": {},
   "outputs": [
    {
     "name": "stderr",
     "output_type": "stream",
     "text": [
      "C:\\Anaconda3\\lib\\site-packages\\sklearn\\linear_model\\_logistic.py:763: ConvergenceWarning: lbfgs failed to converge (status=1):\n",
      "STOP: TOTAL NO. of ITERATIONS REACHED LIMIT.\n",
      "\n",
      "Increase the number of iterations (max_iter) or scale the data as shown in:\n",
      "    https://scikit-learn.org/stable/modules/preprocessing.html\n",
      "Please also refer to the documentation for alternative solver options:\n",
      "    https://scikit-learn.org/stable/modules/linear_model.html#logistic-regression\n",
      "  n_iter_i = _check_optimize_result(\n"
     ]
    },
    {
     "data": {
      "text/plain": [
       "LogisticRegression(C=10000.0)"
      ]
     },
     "execution_count": 3,
     "metadata": {},
     "output_type": "execute_result"
    }
   ],
   "source": [
    "from sklearn.linear_model import LogisticRegression\n",
    "logreg = LogisticRegression(C=1e4)\n",
    "logreg.fit(train_x, train_y)\n",
    "\n",
    "\n",
    "\n"
   ]
  },
  {
   "cell_type": "code",
   "execution_count": 4,
   "id": "2de828ad",
   "metadata": {},
   "outputs": [],
   "source": [
    "# adaptation between tensor to sklearn/pandas\n",
    "def logreg_pred(testset):\n",
    "    probs = logreg.predict_proba(testset[:, :-1])\n",
    "    return prob.tolist()\n",
    "\n",
    "import numpy as np\n",
    "test_examples = np.hstack((test_x,\n",
    "                           test_y.reshape(-1,1)))"
   ]
  },
  {
   "cell_type": "code",
   "execution_count": 5,
   "id": "54b39567",
   "metadata": {},
   "outputs": [
    {
     "name": "stdout",
     "output_type": "stream",
     "text": [
      "Requirement already satisfied: witwidget in c:\\anaconda3\\lib\\site-packages (1.8.1)\n",
      "Requirement already satisfied: oauth2client>=4.1.3 in c:\\anaconda3\\lib\\site-packages (from witwidget) (4.1.3)\n",
      "Requirement already satisfied: six>=1.12.0 in c:\\anaconda3\\lib\\site-packages (from witwidget) (1.15.0)\n",
      "Requirement already satisfied: tensorflow>=1.12.1 in c:\\anaconda3\\lib\\site-packages (from witwidget) (2.8.0)\n",
      "Requirement already satisfied: google-api-python-client>=1.7.8 in c:\\anaconda3\\lib\\site-packages (from witwidget) (2.54.0)\n",
      "Requirement already satisfied: ipywidgets>=7.0.0 in c:\\anaconda3\\lib\\site-packages (from witwidget) (7.6.3)\n",
      "Requirement already satisfied: absl-py>=0.4 in c:\\anaconda3\\lib\\site-packages (from witwidget) (1.0.0)\n",
      "Requirement already satisfied: uritemplate<5,>=3.0.1 in c:\\anaconda3\\lib\\site-packages (from google-api-python-client>=1.7.8->witwidget) (4.1.1)\n",
      "Requirement already satisfied: google-api-core!=2.0.*,!=2.1.*,!=2.2.*,!=2.3.0,<3.0.0dev,>=1.31.5 in c:\\anaconda3\\lib\\site-packages (from google-api-python-client>=1.7.8->witwidget) (2.8.2)\n",
      "Requirement already satisfied: google-auth-httplib2>=0.1.0 in c:\\anaconda3\\lib\\site-packages (from google-api-python-client>=1.7.8->witwidget) (0.1.0)\n",
      "Requirement already satisfied: google-auth<3.0.0dev,>=1.19.0 in c:\\anaconda3\\lib\\site-packages (from google-api-python-client>=1.7.8->witwidget) (2.6.6)\n",
      "Requirement already satisfied: httplib2<1dev,>=0.15.0 in c:\\anaconda3\\lib\\site-packages (from google-api-python-client>=1.7.8->witwidget) (0.20.4)\n",
      "Requirement already satisfied: googleapis-common-protos<2.0dev,>=1.56.2 in c:\\anaconda3\\lib\\site-packages (from google-api-core!=2.0.*,!=2.1.*,!=2.2.*,!=2.3.0,<3.0.0dev,>=1.31.5->google-api-python-client>=1.7.8->witwidget) (1.56.4)\n",
      "Requirement already satisfied: protobuf<5.0.0dev,>=3.15.0 in c:\\anaconda3\\lib\\site-packages (from google-api-core!=2.0.*,!=2.1.*,!=2.2.*,!=2.3.0,<3.0.0dev,>=1.31.5->google-api-python-client>=1.7.8->witwidget) (3.20.1)\n",
      "Requirement already satisfied: requests<3.0.0dev,>=2.18.0 in c:\\anaconda3\\lib\\site-packages (from google-api-core!=2.0.*,!=2.1.*,!=2.2.*,!=2.3.0,<3.0.0dev,>=1.31.5->google-api-python-client>=1.7.8->witwidget) (2.25.1)\n",
      "Requirement already satisfied: rsa<5,>=3.1.4 in c:\\anaconda3\\lib\\site-packages (from google-auth<3.0.0dev,>=1.19.0->google-api-python-client>=1.7.8->witwidget) (4.8)\n",
      "Requirement already satisfied: cachetools<6.0,>=2.0.0 in c:\\anaconda3\\lib\\site-packages (from google-auth<3.0.0dev,>=1.19.0->google-api-python-client>=1.7.8->witwidget) (5.0.0)\n",
      "Requirement already satisfied: pyasn1-modules>=0.2.1 in c:\\anaconda3\\lib\\site-packages (from google-auth<3.0.0dev,>=1.19.0->google-api-python-client>=1.7.8->witwidget) (0.2.8)\n",
      "Requirement already satisfied: pyparsing!=3.0.0,!=3.0.1,!=3.0.2,!=3.0.3,<4,>=2.4.2 in c:\\anaconda3\\lib\\site-packages (from httplib2<1dev,>=0.15.0->google-api-python-client>=1.7.8->witwidget) (2.4.7)\n",
      "Requirement already satisfied: ipython>=4.0.0 in c:\\anaconda3\\lib\\site-packages (from ipywidgets>=7.0.0->witwidget) (7.22.0)\n",
      "Requirement already satisfied: ipykernel>=4.5.1 in c:\\anaconda3\\lib\\site-packages (from ipywidgets>=7.0.0->witwidget) (5.3.4)\n",
      "Requirement already satisfied: nbformat>=4.2.0 in c:\\anaconda3\\lib\\site-packages (from ipywidgets>=7.0.0->witwidget) (5.1.3)\n",
      "Requirement already satisfied: widgetsnbextension~=3.5.0 in c:\\anaconda3\\lib\\site-packages (from ipywidgets>=7.0.0->witwidget) (3.5.1)\n",
      "Requirement already satisfied: jupyterlab-widgets>=1.0.0 in c:\\anaconda3\\lib\\site-packages (from ipywidgets>=7.0.0->witwidget) (1.0.0)\n",
      "Requirement already satisfied: traitlets>=4.3.1 in c:\\anaconda3\\lib\\site-packages (from ipywidgets>=7.0.0->witwidget) (5.0.5)\n",
      "Requirement already satisfied: tornado>=4.2 in c:\\anaconda3\\lib\\site-packages (from ipykernel>=4.5.1->ipywidgets>=7.0.0->witwidget) (6.1)\n",
      "Requirement already satisfied: jupyter-client in c:\\anaconda3\\lib\\site-packages (from ipykernel>=4.5.1->ipywidgets>=7.0.0->witwidget) (6.1.12)\n",
      "Requirement already satisfied: prompt-toolkit!=3.0.0,!=3.0.1,<3.1.0,>=2.0.0 in c:\\anaconda3\\lib\\site-packages (from ipython>=4.0.0->ipywidgets>=7.0.0->witwidget) (3.0.17)\n",
      "Requirement already satisfied: backcall in c:\\anaconda3\\lib\\site-packages (from ipython>=4.0.0->ipywidgets>=7.0.0->witwidget) (0.2.0)\n",
      "Requirement already satisfied: decorator in c:\\anaconda3\\lib\\site-packages (from ipython>=4.0.0->ipywidgets>=7.0.0->witwidget) (5.0.6)\n",
      "Requirement already satisfied: pygments in c:\\anaconda3\\lib\\site-packages (from ipython>=4.0.0->ipywidgets>=7.0.0->witwidget) (2.8.1)\n",
      "Requirement already satisfied: pickleshare in c:\\anaconda3\\lib\\site-packages (from ipython>=4.0.0->ipywidgets>=7.0.0->witwidget) (0.7.5)\n",
      "Requirement already satisfied: jedi>=0.16 in c:\\anaconda3\\lib\\site-packages (from ipython>=4.0.0->ipywidgets>=7.0.0->witwidget) (0.17.2)\n",
      "Requirement already satisfied: setuptools>=18.5 in c:\\anaconda3\\lib\\site-packages (from ipython>=4.0.0->ipywidgets>=7.0.0->witwidget) (52.0.0.post20210125)\n",
      "Requirement already satisfied: colorama in c:\\anaconda3\\lib\\site-packages (from ipython>=4.0.0->ipywidgets>=7.0.0->witwidget) (0.4.4)\n",
      "Requirement already satisfied: parso<0.8.0,>=0.7.0 in c:\\anaconda3\\lib\\site-packages (from jedi>=0.16->ipython>=4.0.0->ipywidgets>=7.0.0->witwidget) (0.7.0)\n",
      "Requirement already satisfied: jupyter-core in c:\\anaconda3\\lib\\site-packages (from nbformat>=4.2.0->ipywidgets>=7.0.0->witwidget) (4.7.1)\n",
      "Requirement already satisfied: ipython-genutils in c:\\anaconda3\\lib\\site-packages (from nbformat>=4.2.0->ipywidgets>=7.0.0->witwidget) (0.2.0)\n",
      "Requirement already satisfied: jsonschema!=2.5.0,>=2.4 in c:\\anaconda3\\lib\\site-packages (from nbformat>=4.2.0->ipywidgets>=7.0.0->witwidget) (3.2.0)\n",
      "Requirement already satisfied: pyrsistent>=0.14.0 in c:\\anaconda3\\lib\\site-packages (from jsonschema!=2.5.0,>=2.4->nbformat>=4.2.0->ipywidgets>=7.0.0->witwidget) (0.17.3)\n",
      "Requirement already satisfied: attrs>=17.4.0 in c:\\anaconda3\\lib\\site-packages (from jsonschema!=2.5.0,>=2.4->nbformat>=4.2.0->ipywidgets>=7.0.0->witwidget) (20.3.0)\n",
      "Requirement already satisfied: pyasn1>=0.1.7 in c:\\anaconda3\\lib\\site-packages (from oauth2client>=4.1.3->witwidget) (0.4.8)\n",
      "Requirement already satisfied: wcwidth in c:\\anaconda3\\lib\\site-packages (from prompt-toolkit!=3.0.0,!=3.0.1,<3.1.0,>=2.0.0->ipython>=4.0.0->ipywidgets>=7.0.0->witwidget) (0.2.5)\n",
      "Requirement already satisfied: urllib3<1.27,>=1.21.1 in c:\\anaconda3\\lib\\site-packages (from requests<3.0.0dev,>=2.18.0->google-api-core!=2.0.*,!=2.1.*,!=2.2.*,!=2.3.0,<3.0.0dev,>=1.31.5->google-api-python-client>=1.7.8->witwidget) (1.26.4)\n",
      "Requirement already satisfied: idna<3,>=2.5 in c:\\anaconda3\\lib\\site-packages (from requests<3.0.0dev,>=2.18.0->google-api-core!=2.0.*,!=2.1.*,!=2.2.*,!=2.3.0,<3.0.0dev,>=1.31.5->google-api-python-client>=1.7.8->witwidget) (2.10)\n",
      "Requirement already satisfied: certifi>=2017.4.17 in c:\\anaconda3\\lib\\site-packages (from requests<3.0.0dev,>=2.18.0->google-api-core!=2.0.*,!=2.1.*,!=2.2.*,!=2.3.0,<3.0.0dev,>=1.31.5->google-api-python-client>=1.7.8->witwidget) (2020.12.5)\n",
      "Requirement already satisfied: chardet<5,>=3.0.2 in c:\\anaconda3\\lib\\site-packages (from requests<3.0.0dev,>=2.18.0->google-api-core!=2.0.*,!=2.1.*,!=2.2.*,!=2.3.0,<3.0.0dev,>=1.31.5->google-api-python-client>=1.7.8->witwidget) (4.0.0)\n",
      "Requirement already satisfied: opt-einsum>=2.3.2 in c:\\anaconda3\\lib\\site-packages (from tensorflow>=1.12.1->witwidget) (3.3.0)\n",
      "Requirement already satisfied: wrapt>=1.11.0 in c:\\anaconda3\\lib\\site-packages (from tensorflow>=1.12.1->witwidget) (1.12.1)\n",
      "Requirement already satisfied: grpcio<2.0,>=1.24.3 in c:\\anaconda3\\lib\\site-packages (from tensorflow>=1.12.1->witwidget) (1.44.0)\n",
      "Requirement already satisfied: typing-extensions>=3.6.6 in c:\\anaconda3\\lib\\site-packages (from tensorflow>=1.12.1->witwidget) (3.7.4.3)\n",
      "Requirement already satisfied: h5py>=2.9.0 in c:\\anaconda3\\lib\\site-packages (from tensorflow>=1.12.1->witwidget) (2.10.0)\n",
      "Requirement already satisfied: astunparse>=1.6.0 in c:\\anaconda3\\lib\\site-packages (from tensorflow>=1.12.1->witwidget) (1.6.3)\n",
      "Requirement already satisfied: tensorboard<2.9,>=2.8 in c:\\anaconda3\\lib\\site-packages (from tensorflow>=1.12.1->witwidget) (2.8.0)\n",
      "Requirement already satisfied: flatbuffers>=1.12 in c:\\anaconda3\\lib\\site-packages (from tensorflow>=1.12.1->witwidget) (2.0)\n",
      "Requirement already satisfied: tensorflow-io-gcs-filesystem>=0.23.1 in c:\\anaconda3\\lib\\site-packages (from tensorflow>=1.12.1->witwidget) (0.25.0)\n",
      "Requirement already satisfied: termcolor>=1.1.0 in c:\\anaconda3\\lib\\site-packages (from tensorflow>=1.12.1->witwidget) (1.1.0)\n",
      "Requirement already satisfied: numpy>=1.20 in c:\\anaconda3\\lib\\site-packages (from tensorflow>=1.12.1->witwidget) (1.20.1)\n",
      "Requirement already satisfied: libclang>=9.0.1 in c:\\anaconda3\\lib\\site-packages (from tensorflow>=1.12.1->witwidget) (14.0.1)\n",
      "Requirement already satisfied: tf-estimator-nightly==2.8.0.dev2021122109 in c:\\anaconda3\\lib\\site-packages (from tensorflow>=1.12.1->witwidget) (2.8.0.dev2021122109)\n",
      "Requirement already satisfied: keras<2.9,>=2.8.0rc0 in c:\\anaconda3\\lib\\site-packages (from tensorflow>=1.12.1->witwidget) (2.8.0)\n",
      "Requirement already satisfied: google-pasta>=0.1.1 in c:\\anaconda3\\lib\\site-packages (from tensorflow>=1.12.1->witwidget) (0.2.0)\n",
      "Requirement already satisfied: gast>=0.2.1 in c:\\anaconda3\\lib\\site-packages (from tensorflow>=1.12.1->witwidget) (0.5.3)\n",
      "Requirement already satisfied: keras-preprocessing>=1.1.1 in c:\\anaconda3\\lib\\site-packages (from tensorflow>=1.12.1->witwidget) (1.1.2)\n",
      "Requirement already satisfied: wheel<1.0,>=0.23.0 in c:\\anaconda3\\lib\\site-packages (from astunparse>=1.6.0->tensorflow>=1.12.1->witwidget) (0.36.2)\n",
      "Requirement already satisfied: google-auth-oauthlib<0.5,>=0.4.1 in c:\\anaconda3\\lib\\site-packages (from tensorboard<2.9,>=2.8->tensorflow>=1.12.1->witwidget) (0.4.6)\n",
      "Requirement already satisfied: werkzeug>=0.11.15 in c:\\anaconda3\\lib\\site-packages (from tensorboard<2.9,>=2.8->tensorflow>=1.12.1->witwidget) (1.0.1)\n",
      "Requirement already satisfied: markdown>=2.6.8 in c:\\anaconda3\\lib\\site-packages (from tensorboard<2.9,>=2.8->tensorflow>=1.12.1->witwidget) (3.3.6)\n",
      "Requirement already satisfied: tensorboard-data-server<0.7.0,>=0.6.0 in c:\\anaconda3\\lib\\site-packages (from tensorboard<2.9,>=2.8->tensorflow>=1.12.1->witwidget) (0.6.1)\n",
      "Requirement already satisfied: tensorboard-plugin-wit>=1.6.0 in c:\\anaconda3\\lib\\site-packages (from tensorboard<2.9,>=2.8->tensorflow>=1.12.1->witwidget) (1.8.1)\n",
      "Requirement already satisfied: requests-oauthlib>=0.7.0 in c:\\anaconda3\\lib\\site-packages (from google-auth-oauthlib<0.5,>=0.4.1->tensorboard<2.9,>=2.8->tensorflow>=1.12.1->witwidget) (1.3.1)\n",
      "Requirement already satisfied: importlib-metadata>=4.4 in c:\\anaconda3\\lib\\site-packages (from markdown>=2.6.8->tensorboard<2.9,>=2.8->tensorflow>=1.12.1->witwidget) (4.12.0)\n",
      "Requirement already satisfied: zipp>=0.5 in c:\\anaconda3\\lib\\site-packages (from importlib-metadata>=4.4->markdown>=2.6.8->tensorboard<2.9,>=2.8->tensorflow>=1.12.1->witwidget) (3.4.1)\n",
      "Requirement already satisfied: oauthlib>=3.0.0 in c:\\anaconda3\\lib\\site-packages (from requests-oauthlib>=0.7.0->google-auth-oauthlib<0.5,>=0.4.1->tensorboard<2.9,>=2.8->tensorflow>=1.12.1->witwidget) (3.2.0)\n",
      "Requirement already satisfied: notebook>=4.4.1 in c:\\anaconda3\\lib\\site-packages (from widgetsnbextension~=3.5.0->ipywidgets>=7.0.0->witwidget) (6.3.0)\n",
      "Requirement already satisfied: Send2Trash>=1.5.0 in c:\\anaconda3\\lib\\site-packages (from notebook>=4.4.1->widgetsnbextension~=3.5.0->ipywidgets>=7.0.0->witwidget) (1.5.0)\n",
      "Requirement already satisfied: pyzmq>=17 in c:\\anaconda3\\lib\\site-packages (from notebook>=4.4.1->widgetsnbextension~=3.5.0->ipywidgets>=7.0.0->witwidget) (20.0.0)\n",
      "Requirement already satisfied: nbconvert in c:\\anaconda3\\lib\\site-packages (from notebook>=4.4.1->widgetsnbextension~=3.5.0->ipywidgets>=7.0.0->witwidget) (6.0.7)\n",
      "Requirement already satisfied: jinja2 in c:\\anaconda3\\lib\\site-packages (from notebook>=4.4.1->widgetsnbextension~=3.5.0->ipywidgets>=7.0.0->witwidget) (2.11.3)\n",
      "Requirement already satisfied: argon2-cffi in c:\\anaconda3\\lib\\site-packages (from notebook>=4.4.1->widgetsnbextension~=3.5.0->ipywidgets>=7.0.0->witwidget) (20.1.0)\n",
      "Requirement already satisfied: prometheus-client in c:\\anaconda3\\lib\\site-packages (from notebook>=4.4.1->widgetsnbextension~=3.5.0->ipywidgets>=7.0.0->witwidget) (0.10.1)\n",
      "Requirement already satisfied: terminado>=0.8.3 in c:\\anaconda3\\lib\\site-packages (from notebook>=4.4.1->widgetsnbextension~=3.5.0->ipywidgets>=7.0.0->witwidget) (0.9.4)\n",
      "Requirement already satisfied: python-dateutil>=2.1 in c:\\anaconda3\\lib\\site-packages (from jupyter-client->ipykernel>=4.5.1->ipywidgets>=7.0.0->witwidget) (2.8.1)\n",
      "Requirement already satisfied: pywin32>=1.0 in c:\\anaconda3\\lib\\site-packages (from jupyter-core->nbformat>=4.2.0->ipywidgets>=7.0.0->witwidget) (227)\n",
      "Requirement already satisfied: pywinpty>=0.5 in c:\\anaconda3\\lib\\site-packages (from terminado>=0.8.3->notebook>=4.4.1->widgetsnbextension~=3.5.0->ipywidgets>=7.0.0->witwidget) (0.5.7)\n",
      "Requirement already satisfied: cffi>=1.0.0 in c:\\anaconda3\\lib\\site-packages (from argon2-cffi->notebook>=4.4.1->widgetsnbextension~=3.5.0->ipywidgets>=7.0.0->witwidget) (1.14.5)\n",
      "Requirement already satisfied: pycparser in c:\\anaconda3\\lib\\site-packages (from cffi>=1.0.0->argon2-cffi->notebook>=4.4.1->widgetsnbextension~=3.5.0->ipywidgets>=7.0.0->witwidget) (2.20)\n",
      "Requirement already satisfied: MarkupSafe>=0.23 in c:\\anaconda3\\lib\\site-packages (from jinja2->notebook>=4.4.1->widgetsnbextension~=3.5.0->ipywidgets>=7.0.0->witwidget) (1.1.1)\n",
      "Requirement already satisfied: nbclient<0.6.0,>=0.5.0 in c:\\anaconda3\\lib\\site-packages (from nbconvert->notebook>=4.4.1->widgetsnbextension~=3.5.0->ipywidgets>=7.0.0->witwidget) (0.5.3)\n",
      "Requirement already satisfied: testpath in c:\\anaconda3\\lib\\site-packages (from nbconvert->notebook>=4.4.1->widgetsnbextension~=3.5.0->ipywidgets>=7.0.0->witwidget) (0.4.4)\n",
      "Requirement already satisfied: jupyterlab-pygments in c:\\anaconda3\\lib\\site-packages (from nbconvert->notebook>=4.4.1->widgetsnbextension~=3.5.0->ipywidgets>=7.0.0->witwidget) (0.1.2)\n",
      "Requirement already satisfied: pandocfilters>=1.4.1 in c:\\anaconda3\\lib\\site-packages (from nbconvert->notebook>=4.4.1->widgetsnbextension~=3.5.0->ipywidgets>=7.0.0->witwidget) (1.4.3)\n",
      "Requirement already satisfied: mistune<2,>=0.8.1 in c:\\anaconda3\\lib\\site-packages (from nbconvert->notebook>=4.4.1->widgetsnbextension~=3.5.0->ipywidgets>=7.0.0->witwidget) (0.8.4)\n",
      "Requirement already satisfied: bleach in c:\\anaconda3\\lib\\site-packages (from nbconvert->notebook>=4.4.1->widgetsnbextension~=3.5.0->ipywidgets>=7.0.0->witwidget) (3.3.0)\n",
      "Requirement already satisfied: defusedxml in c:\\anaconda3\\lib\\site-packages (from nbconvert->notebook>=4.4.1->widgetsnbextension~=3.5.0->ipywidgets>=7.0.0->witwidget) (0.7.1)\n",
      "Requirement already satisfied: entrypoints>=0.2.2 in c:\\anaconda3\\lib\\site-packages (from nbconvert->notebook>=4.4.1->widgetsnbextension~=3.5.0->ipywidgets>=7.0.0->witwidget) (0.3)\n",
      "Requirement already satisfied: async-generator in c:\\anaconda3\\lib\\site-packages (from nbclient<0.6.0,>=0.5.0->nbconvert->notebook>=4.4.1->widgetsnbextension~=3.5.0->ipywidgets>=7.0.0->witwidget) (1.10)\n",
      "Requirement already satisfied: nest-asyncio in c:\\anaconda3\\lib\\site-packages (from nbclient<0.6.0,>=0.5.0->nbconvert->notebook>=4.4.1->widgetsnbextension~=3.5.0->ipywidgets>=7.0.0->witwidget) (1.5.1)\n",
      "Requirement already satisfied: packaging in c:\\anaconda3\\lib\\site-packages (from bleach->nbconvert->notebook>=4.4.1->widgetsnbextension~=3.5.0->ipywidgets>=7.0.0->witwidget) (21.3)\n",
      "Requirement already satisfied: webencodings in c:\\anaconda3\\lib\\site-packages (from bleach->nbconvert->notebook>=4.4.1->widgetsnbextension~=3.5.0->ipywidgets>=7.0.0->witwidget) (0.5.1)\n"
     ]
    }
   ],
   "source": [
    "!pip install --upgrade witwidget"
   ]
  },
  {
   "cell_type": "code",
   "execution_count": 6,
   "id": "62fcd9c5",
   "metadata": {},
   "outputs": [],
   "source": [
    "from witwidget.notebook.visualization import WitConfigBuilder\n",
    "config_builder = WitConfigBuilder(\n",
    "    test_examples.tolist(),\n",
    "    feature_names=['petal length', 'petal width', 'sepal length', 'sepal width', 'species'])\\\n",
    ".set_custom_predict_fn(logreg_pred).set_target_feature('species')"
   ]
  },
  {
   "cell_type": "code",
   "execution_count": 7,
   "id": "ec134451",
   "metadata": {},
   "outputs": [
    {
     "data": {
      "text/html": [
       "<style>.container { width:100% !important; }</style>"
      ],
      "text/plain": [
       "<IPython.core.display.HTML object>"
      ]
     },
     "metadata": {},
     "output_type": "display_data"
    },
    {
     "data": {
      "application/vnd.jupyter.widget-view+json": {
       "model_id": "a3e66ca2d26e48bea72588afc7f81f33",
       "version_major": 2,
       "version_minor": 0
      },
      "text/plain": [
       "WitWidget(config={'model_type': 'classification', 'label_vocab': [], 'feature_names': ['petal length', 'petal …"
      ]
     },
     "metadata": {},
     "output_type": "display_data"
    }
   ],
   "source": [
    "from witwidget.notebook.visualization import WitWidget\n",
    "WitWidget(config_builder, height=600)"
   ]
  },
  {
   "cell_type": "code",
   "execution_count": null,
   "id": "63bec84d",
   "metadata": {},
   "outputs": [],
   "source": []
  },
  {
   "cell_type": "markdown",
   "id": "a9d682d6",
   "metadata": {},
   "source": [
    "# EXAMPLE 2 - GERMAN CREDIT DATASET\n"
   ]
  },
  {
   "cell_type": "code",
   "execution_count": 8,
   "id": "8189fcd4",
   "metadata": {},
   "outputs": [
    {
     "name": "stdout",
     "output_type": "stream",
     "text": [
      "Requirement already satisfied: dalex in c:\\anaconda3\\lib\\site-packages (1.4.1)\n",
      "Requirement already satisfied: numpy>=1.18.4 in c:\\anaconda3\\lib\\site-packages (from dalex) (1.20.1)\n",
      "Requirement already satisfied: pandas>=1.1.2 in c:\\anaconda3\\lib\\site-packages (from dalex) (1.2.4)\n",
      "Requirement already satisfied: plotly>=4.12.0 in c:\\anaconda3\\lib\\site-packages (from dalex) (5.5.0)\n",
      "Requirement already satisfied: setuptools in c:\\anaconda3\\lib\\site-packages (from dalex) (52.0.0.post20210125)\n",
      "Requirement already satisfied: scipy>=1.5.4 in c:\\anaconda3\\lib\\site-packages (from dalex) (1.6.2)\n",
      "Requirement already satisfied: tqdm>=4.48.2 in c:\\anaconda3\\lib\\site-packages (from dalex) (4.59.0)\n",
      "Requirement already satisfied: python-dateutil>=2.7.3 in c:\\anaconda3\\lib\\site-packages (from pandas>=1.1.2->dalex) (2.8.1)\n",
      "Requirement already satisfied: pytz>=2017.3 in c:\\anaconda3\\lib\\site-packages (from pandas>=1.1.2->dalex) (2021.1)\n",
      "Requirement already satisfied: six in c:\\anaconda3\\lib\\site-packages (from plotly>=4.12.0->dalex) (1.15.0)\n",
      "Requirement already satisfied: tenacity>=6.2.0 in c:\\anaconda3\\lib\\site-packages (from plotly>=4.12.0->dalex) (8.0.1)\n"
     ]
    }
   ],
   "source": [
    "!pip install dalex"
   ]
  },
  {
   "cell_type": "code",
   "execution_count": 9,
   "id": "83e8b9ee",
   "metadata": {},
   "outputs": [
    {
     "data": {
      "text/html": [
       "<div>\n",
       "<style scoped>\n",
       "    .dataframe tbody tr th:only-of-type {\n",
       "        vertical-align: middle;\n",
       "    }\n",
       "\n",
       "    .dataframe tbody tr th {\n",
       "        vertical-align: top;\n",
       "    }\n",
       "\n",
       "    .dataframe thead th {\n",
       "        text-align: right;\n",
       "    }\n",
       "</style>\n",
       "<table border=\"1\" class=\"dataframe\">\n",
       "  <thead>\n",
       "    <tr style=\"text-align: right;\">\n",
       "      <th></th>\n",
       "      <th>risk</th>\n",
       "      <th>sex</th>\n",
       "      <th>job</th>\n",
       "      <th>housing</th>\n",
       "      <th>saving_accounts</th>\n",
       "      <th>checking_account</th>\n",
       "      <th>credit_amount</th>\n",
       "      <th>duration</th>\n",
       "      <th>purpose</th>\n",
       "      <th>age</th>\n",
       "    </tr>\n",
       "  </thead>\n",
       "  <tbody>\n",
       "    <tr>\n",
       "      <th>0</th>\n",
       "      <td>1</td>\n",
       "      <td>male</td>\n",
       "      <td>2</td>\n",
       "      <td>own</td>\n",
       "      <td>not_known</td>\n",
       "      <td>little</td>\n",
       "      <td>1169</td>\n",
       "      <td>6</td>\n",
       "      <td>radio/TV</td>\n",
       "      <td>67</td>\n",
       "    </tr>\n",
       "    <tr>\n",
       "      <th>1</th>\n",
       "      <td>0</td>\n",
       "      <td>female</td>\n",
       "      <td>2</td>\n",
       "      <td>own</td>\n",
       "      <td>little</td>\n",
       "      <td>moderate</td>\n",
       "      <td>5951</td>\n",
       "      <td>48</td>\n",
       "      <td>radio/TV</td>\n",
       "      <td>22</td>\n",
       "    </tr>\n",
       "    <tr>\n",
       "      <th>2</th>\n",
       "      <td>1</td>\n",
       "      <td>male</td>\n",
       "      <td>1</td>\n",
       "      <td>own</td>\n",
       "      <td>little</td>\n",
       "      <td>not_known</td>\n",
       "      <td>2096</td>\n",
       "      <td>12</td>\n",
       "      <td>education</td>\n",
       "      <td>49</td>\n",
       "    </tr>\n",
       "    <tr>\n",
       "      <th>3</th>\n",
       "      <td>1</td>\n",
       "      <td>male</td>\n",
       "      <td>2</td>\n",
       "      <td>free</td>\n",
       "      <td>little</td>\n",
       "      <td>little</td>\n",
       "      <td>7882</td>\n",
       "      <td>42</td>\n",
       "      <td>furniture/equipment</td>\n",
       "      <td>45</td>\n",
       "    </tr>\n",
       "    <tr>\n",
       "      <th>4</th>\n",
       "      <td>0</td>\n",
       "      <td>male</td>\n",
       "      <td>2</td>\n",
       "      <td>free</td>\n",
       "      <td>little</td>\n",
       "      <td>little</td>\n",
       "      <td>4870</td>\n",
       "      <td>24</td>\n",
       "      <td>car</td>\n",
       "      <td>53</td>\n",
       "    </tr>\n",
       "    <tr>\n",
       "      <th>...</th>\n",
       "      <td>...</td>\n",
       "      <td>...</td>\n",
       "      <td>...</td>\n",
       "      <td>...</td>\n",
       "      <td>...</td>\n",
       "      <td>...</td>\n",
       "      <td>...</td>\n",
       "      <td>...</td>\n",
       "      <td>...</td>\n",
       "      <td>...</td>\n",
       "    </tr>\n",
       "    <tr>\n",
       "      <th>995</th>\n",
       "      <td>1</td>\n",
       "      <td>female</td>\n",
       "      <td>1</td>\n",
       "      <td>own</td>\n",
       "      <td>little</td>\n",
       "      <td>not_known</td>\n",
       "      <td>1736</td>\n",
       "      <td>12</td>\n",
       "      <td>furniture/equipment</td>\n",
       "      <td>31</td>\n",
       "    </tr>\n",
       "    <tr>\n",
       "      <th>996</th>\n",
       "      <td>1</td>\n",
       "      <td>male</td>\n",
       "      <td>3</td>\n",
       "      <td>own</td>\n",
       "      <td>little</td>\n",
       "      <td>little</td>\n",
       "      <td>3857</td>\n",
       "      <td>30</td>\n",
       "      <td>car</td>\n",
       "      <td>40</td>\n",
       "    </tr>\n",
       "    <tr>\n",
       "      <th>997</th>\n",
       "      <td>1</td>\n",
       "      <td>male</td>\n",
       "      <td>2</td>\n",
       "      <td>own</td>\n",
       "      <td>little</td>\n",
       "      <td>not_known</td>\n",
       "      <td>804</td>\n",
       "      <td>12</td>\n",
       "      <td>radio/TV</td>\n",
       "      <td>38</td>\n",
       "    </tr>\n",
       "    <tr>\n",
       "      <th>998</th>\n",
       "      <td>0</td>\n",
       "      <td>male</td>\n",
       "      <td>2</td>\n",
       "      <td>free</td>\n",
       "      <td>little</td>\n",
       "      <td>little</td>\n",
       "      <td>1845</td>\n",
       "      <td>45</td>\n",
       "      <td>radio/TV</td>\n",
       "      <td>23</td>\n",
       "    </tr>\n",
       "    <tr>\n",
       "      <th>999</th>\n",
       "      <td>1</td>\n",
       "      <td>male</td>\n",
       "      <td>2</td>\n",
       "      <td>own</td>\n",
       "      <td>moderate</td>\n",
       "      <td>moderate</td>\n",
       "      <td>4576</td>\n",
       "      <td>45</td>\n",
       "      <td>car</td>\n",
       "      <td>27</td>\n",
       "    </tr>\n",
       "  </tbody>\n",
       "</table>\n",
       "<p>1000 rows × 10 columns</p>\n",
       "</div>"
      ],
      "text/plain": [
       "     risk     sex  job housing saving_accounts checking_account  \\\n",
       "0       1    male    2     own       not_known           little   \n",
       "1       0  female    2     own          little         moderate   \n",
       "2       1    male    1     own          little        not_known   \n",
       "3       1    male    2    free          little           little   \n",
       "4       0    male    2    free          little           little   \n",
       "..    ...     ...  ...     ...             ...              ...   \n",
       "995     1  female    1     own          little        not_known   \n",
       "996     1    male    3     own          little           little   \n",
       "997     1    male    2     own          little        not_known   \n",
       "998     0    male    2    free          little           little   \n",
       "999     1    male    2     own        moderate         moderate   \n",
       "\n",
       "     credit_amount  duration              purpose  age  \n",
       "0             1169         6             radio/TV   67  \n",
       "1             5951        48             radio/TV   22  \n",
       "2             2096        12            education   49  \n",
       "3             7882        42  furniture/equipment   45  \n",
       "4             4870        24                  car   53  \n",
       "..             ...       ...                  ...  ...  \n",
       "995           1736        12  furniture/equipment   31  \n",
       "996           3857        30                  car   40  \n",
       "997            804        12             radio/TV   38  \n",
       "998           1845        45             radio/TV   23  \n",
       "999           4576        45                  car   27  \n",
       "\n",
       "[1000 rows x 10 columns]"
      ]
     },
     "execution_count": 9,
     "metadata": {},
     "output_type": "execute_result"
    }
   ],
   "source": [
    "import dalex as dx\n",
    "import pandas as pd\n",
    "data = dx.datasets.load_german()\n",
    "data"
   ]
  },
  {
   "cell_type": "code",
   "execution_count": 10,
   "id": "998f1e8b",
   "metadata": {},
   "outputs": [
    {
     "data": {
      "text/html": [
       "<div>\n",
       "<style scoped>\n",
       "    .dataframe tbody tr th:only-of-type {\n",
       "        vertical-align: middle;\n",
       "    }\n",
       "\n",
       "    .dataframe tbody tr th {\n",
       "        vertical-align: top;\n",
       "    }\n",
       "\n",
       "    .dataframe thead th {\n",
       "        text-align: right;\n",
       "    }\n",
       "</style>\n",
       "<table border=\"1\" class=\"dataframe\">\n",
       "  <thead>\n",
       "    <tr style=\"text-align: right;\">\n",
       "      <th></th>\n",
       "      <th>risk</th>\n",
       "      <th>sex</th>\n",
       "      <th>job</th>\n",
       "      <th>housing</th>\n",
       "      <th>saving_accounts</th>\n",
       "      <th>checking_account</th>\n",
       "      <th>credit_amount</th>\n",
       "      <th>duration</th>\n",
       "      <th>purpose</th>\n",
       "      <th>age</th>\n",
       "    </tr>\n",
       "  </thead>\n",
       "  <tbody>\n",
       "    <tr>\n",
       "      <th>0</th>\n",
       "      <td>1</td>\n",
       "      <td>1</td>\n",
       "      <td>2</td>\n",
       "      <td>1</td>\n",
       "      <td>2</td>\n",
       "      <td>0</td>\n",
       "      <td>1169</td>\n",
       "      <td>6</td>\n",
       "      <td>5</td>\n",
       "      <td>67</td>\n",
       "    </tr>\n",
       "    <tr>\n",
       "      <th>1</th>\n",
       "      <td>0</td>\n",
       "      <td>0</td>\n",
       "      <td>2</td>\n",
       "      <td>1</td>\n",
       "      <td>0</td>\n",
       "      <td>1</td>\n",
       "      <td>5951</td>\n",
       "      <td>48</td>\n",
       "      <td>5</td>\n",
       "      <td>22</td>\n",
       "    </tr>\n",
       "    <tr>\n",
       "      <th>2</th>\n",
       "      <td>1</td>\n",
       "      <td>1</td>\n",
       "      <td>1</td>\n",
       "      <td>1</td>\n",
       "      <td>0</td>\n",
       "      <td>2</td>\n",
       "      <td>2096</td>\n",
       "      <td>12</td>\n",
       "      <td>3</td>\n",
       "      <td>49</td>\n",
       "    </tr>\n",
       "    <tr>\n",
       "      <th>3</th>\n",
       "      <td>1</td>\n",
       "      <td>1</td>\n",
       "      <td>2</td>\n",
       "      <td>0</td>\n",
       "      <td>0</td>\n",
       "      <td>0</td>\n",
       "      <td>7882</td>\n",
       "      <td>42</td>\n",
       "      <td>4</td>\n",
       "      <td>45</td>\n",
       "    </tr>\n",
       "    <tr>\n",
       "      <th>4</th>\n",
       "      <td>0</td>\n",
       "      <td>1</td>\n",
       "      <td>2</td>\n",
       "      <td>0</td>\n",
       "      <td>0</td>\n",
       "      <td>0</td>\n",
       "      <td>4870</td>\n",
       "      <td>24</td>\n",
       "      <td>1</td>\n",
       "      <td>53</td>\n",
       "    </tr>\n",
       "    <tr>\n",
       "      <th>...</th>\n",
       "      <td>...</td>\n",
       "      <td>...</td>\n",
       "      <td>...</td>\n",
       "      <td>...</td>\n",
       "      <td>...</td>\n",
       "      <td>...</td>\n",
       "      <td>...</td>\n",
       "      <td>...</td>\n",
       "      <td>...</td>\n",
       "      <td>...</td>\n",
       "    </tr>\n",
       "    <tr>\n",
       "      <th>995</th>\n",
       "      <td>1</td>\n",
       "      <td>0</td>\n",
       "      <td>1</td>\n",
       "      <td>1</td>\n",
       "      <td>0</td>\n",
       "      <td>2</td>\n",
       "      <td>1736</td>\n",
       "      <td>12</td>\n",
       "      <td>4</td>\n",
       "      <td>31</td>\n",
       "    </tr>\n",
       "    <tr>\n",
       "      <th>996</th>\n",
       "      <td>1</td>\n",
       "      <td>1</td>\n",
       "      <td>3</td>\n",
       "      <td>1</td>\n",
       "      <td>0</td>\n",
       "      <td>0</td>\n",
       "      <td>3857</td>\n",
       "      <td>30</td>\n",
       "      <td>1</td>\n",
       "      <td>40</td>\n",
       "    </tr>\n",
       "    <tr>\n",
       "      <th>997</th>\n",
       "      <td>1</td>\n",
       "      <td>1</td>\n",
       "      <td>2</td>\n",
       "      <td>1</td>\n",
       "      <td>0</td>\n",
       "      <td>2</td>\n",
       "      <td>804</td>\n",
       "      <td>12</td>\n",
       "      <td>5</td>\n",
       "      <td>38</td>\n",
       "    </tr>\n",
       "    <tr>\n",
       "      <th>998</th>\n",
       "      <td>0</td>\n",
       "      <td>1</td>\n",
       "      <td>2</td>\n",
       "      <td>0</td>\n",
       "      <td>0</td>\n",
       "      <td>0</td>\n",
       "      <td>1845</td>\n",
       "      <td>45</td>\n",
       "      <td>5</td>\n",
       "      <td>23</td>\n",
       "    </tr>\n",
       "    <tr>\n",
       "      <th>999</th>\n",
       "      <td>1</td>\n",
       "      <td>1</td>\n",
       "      <td>2</td>\n",
       "      <td>1</td>\n",
       "      <td>1</td>\n",
       "      <td>1</td>\n",
       "      <td>4576</td>\n",
       "      <td>45</td>\n",
       "      <td>1</td>\n",
       "      <td>27</td>\n",
       "    </tr>\n",
       "  </tbody>\n",
       "</table>\n",
       "<p>1000 rows × 10 columns</p>\n",
       "</div>"
      ],
      "text/plain": [
       "     risk  sex  job  housing  saving_accounts  checking_account  \\\n",
       "0       1    1    2        1                2                 0   \n",
       "1       0    0    2        1                0                 1   \n",
       "2       1    1    1        1                0                 2   \n",
       "3       1    1    2        0                0                 0   \n",
       "4       0    1    2        0                0                 0   \n",
       "..    ...  ...  ...      ...              ...               ...   \n",
       "995     1    0    1        1                0                 2   \n",
       "996     1    1    3        1                0                 0   \n",
       "997     1    1    2        1                0                 2   \n",
       "998     0    1    2        0                0                 0   \n",
       "999     1    1    2        1                1                 1   \n",
       "\n",
       "     credit_amount  duration  purpose  age  \n",
       "0             1169         6        5   67  \n",
       "1             5951        48        5   22  \n",
       "2             2096        12        3   49  \n",
       "3             7882        42        4   45  \n",
       "4             4870        24        1   53  \n",
       "..             ...       ...      ...  ...  \n",
       "995           1736        12        4   31  \n",
       "996           3857        30        1   40  \n",
       "997            804        12        5   38  \n",
       "998           1845        45        5   23  \n",
       "999           4576        45        1   27  \n",
       "\n",
       "[1000 rows x 10 columns]"
      ]
     },
     "execution_count": 10,
     "metadata": {},
     "output_type": "execute_result"
    }
   ],
   "source": [
    "from sklearn import preprocessing\n",
    "le = preprocessing.LabelEncoder()\n",
    "data['sex'] = le.fit_transform(data['sex'])\n",
    "data['housing'] = le.fit_transform(data['housing'])\n",
    "data['saving_accounts'] = le.fit_transform(data['saving_accounts'])\n",
    "data['checking_account'] = le.fit_transform(data['checking_account'])\n",
    "data['purpose'] = le.fit_transform(data['purpose'])\n",
    "data"
   ]
  },
  {
   "cell_type": "code",
   "execution_count": 11,
   "id": "adb57c03",
   "metadata": {},
   "outputs": [
    {
     "name": "stdout",
     "output_type": "stream",
     "text": [
      "Data sucessfully loaded!\n"
     ]
    }
   ],
   "source": [
    "import pandas as pd\n",
    "import numpy as np\n",
    "from sklearn.model_selection import train_test_split\n",
    "X = data.drop([\"risk\"],axis=1) # axis: {0 or ‘index’, 1 or ‘columns’}, default 0\n",
    "y = data[[\"risk\"]]\n",
    "\n",
    "\n",
    "#train_x, test_x, train_y, test_y\n",
    "X_train, X_test, y_train, y_test = train_test_split(X,y,train_size=0.8, test_size=0.2, random_state=0)\n",
    "print(\"Data sucessfully loaded!\")"
   ]
  },
  {
   "cell_type": "code",
   "execution_count": 12,
   "id": "27d3fbfb",
   "metadata": {},
   "outputs": [
    {
     "name": "stdout",
     "output_type": "stream",
     "text": [
      "Requirement already satisfied: xgboost in c:\\anaconda3\\lib\\site-packages (1.6.1)\n",
      "Requirement already satisfied: numpy in c:\\anaconda3\\lib\\site-packages (from xgboost) (1.20.1)\n",
      "Requirement already satisfied: scipy in c:\\anaconda3\\lib\\site-packages (from xgboost) (1.6.2)\n"
     ]
    }
   ],
   "source": [
    "!pip install xgboost"
   ]
  },
  {
   "cell_type": "code",
   "execution_count": 13,
   "id": "ce1349f0",
   "metadata": {},
   "outputs": [
    {
     "data": {
      "text/plain": [
       "array([0, 1, 1, 1, 1, 1, 1, 1, 1, 0, 0, 1, 0, 1, 1, 1, 1, 1, 1, 0, 1, 0,\n",
       "       1, 1, 1, 0, 1, 1, 1, 0, 1, 1, 1, 0, 1, 0, 1, 1, 1, 1, 1, 1, 1, 1,\n",
       "       1, 1, 0, 0, 0, 1, 1, 1, 1, 1, 1, 1, 0, 1, 1, 1, 0, 1, 0, 1, 1, 1,\n",
       "       1, 0, 0, 1, 1, 1, 1, 1, 1, 1, 1, 1, 0, 1, 1, 1, 1, 1, 1, 1, 1, 1,\n",
       "       1, 1, 1, 1, 1, 1, 1, 1, 0, 1, 1, 0, 1, 1, 1, 1, 1, 1, 1, 1, 0, 1,\n",
       "       1, 1, 1, 1, 1, 1, 0, 1, 1, 1, 0, 1, 1, 1, 1, 1, 1, 1, 1, 1, 1, 1,\n",
       "       0, 1, 1, 1, 1, 1, 1, 0, 0, 0, 1, 1, 1, 1, 1, 0, 1, 1, 1, 1, 1, 1,\n",
       "       1, 1, 0, 1, 1, 1, 0, 1, 1, 1, 0, 0, 0, 1, 1, 1, 1, 1, 1, 0, 1, 1,\n",
       "       0, 1, 1, 1, 1, 0, 1, 0, 1, 0, 1, 0, 1, 1, 1, 0, 1, 1, 1, 1, 0, 1,\n",
       "       1, 1])"
      ]
     },
     "execution_count": 13,
     "metadata": {},
     "output_type": "execute_result"
    }
   ],
   "source": [
    "import xgboost\n",
    "xgboost_model = xgboost.XGBClassifier().fit(X_train, y_train)\n",
    "y_test_predict = xgboost_model.predict(X_test)\n",
    "y_test_predict"
   ]
  },
  {
   "cell_type": "code",
   "execution_count": 14,
   "id": "39ba9db9",
   "metadata": {},
   "outputs": [],
   "source": [
    "# adaptation between tensor to sklearn/pandas\n",
    "def xgboost_pred(testset):\n",
    "    probs = xgboost_model.predict_proba(testset[:, :-1])\n",
    "    return prob.tolist()\n",
    "\n",
    "import numpy as np\n",
    "\n",
    "test_examples = np.hstack((X_test,\n",
    "                           y_test))"
   ]
  },
  {
   "cell_type": "code",
   "execution_count": 15,
   "id": "fca14159",
   "metadata": {},
   "outputs": [
    {
     "data": {
      "text/plain": [
       "array([[ 1,  3,  1, ...,  4, 30,  1],\n",
       "       [ 1,  2,  2, ...,  1, 26,  1],\n",
       "       [ 1,  2,  1, ...,  4, 43,  1],\n",
       "       ...,\n",
       "       [ 0,  1,  1, ...,  3, 39,  1],\n",
       "       [ 1,  3,  1, ...,  1, 42,  0],\n",
       "       [ 1,  2,  0, ...,  5, 42,  1]], dtype=int64)"
      ]
     },
     "execution_count": 15,
     "metadata": {},
     "output_type": "execute_result"
    }
   ],
   "source": [
    "test_examples"
   ]
  },
  {
   "cell_type": "code",
   "execution_count": 16,
   "id": "2f350d2e",
   "metadata": {},
   "outputs": [
    {
     "name": "stdout",
     "output_type": "stream",
     "text": [
      "Requirement already satisfied: witwidget in c:\\anaconda3\\lib\\site-packages (1.8.1)\n",
      "Requirement already satisfied: google-api-python-client>=1.7.8 in c:\\anaconda3\\lib\\site-packages (from witwidget) (2.54.0)\n",
      "Requirement already satisfied: tensorflow>=1.12.1 in c:\\anaconda3\\lib\\site-packages (from witwidget) (2.8.0)\n",
      "Requirement already satisfied: absl-py>=0.4 in c:\\anaconda3\\lib\\site-packages (from witwidget) (1.0.0)\n",
      "Requirement already satisfied: oauth2client>=4.1.3 in c:\\anaconda3\\lib\\site-packages (from witwidget) (4.1.3)\n",
      "Requirement already satisfied: ipywidgets>=7.0.0 in c:\\anaconda3\\lib\\site-packages (from witwidget) (7.6.3)\n",
      "Requirement already satisfied: six>=1.12.0 in c:\\anaconda3\\lib\\site-packages (from witwidget) (1.15.0)\n",
      "Requirement already satisfied: httplib2<1dev,>=0.15.0 in c:\\anaconda3\\lib\\site-packages (from google-api-python-client>=1.7.8->witwidget) (0.20.4)\n",
      "Requirement already satisfied: google-auth-httplib2>=0.1.0 in c:\\anaconda3\\lib\\site-packages (from google-api-python-client>=1.7.8->witwidget) (0.1.0)\n",
      "Requirement already satisfied: uritemplate<5,>=3.0.1 in c:\\anaconda3\\lib\\site-packages (from google-api-python-client>=1.7.8->witwidget) (4.1.1)\n",
      "Requirement already satisfied: google-api-core!=2.0.*,!=2.1.*,!=2.2.*,!=2.3.0,<3.0.0dev,>=1.31.5 in c:\\anaconda3\\lib\\site-packages (from google-api-python-client>=1.7.8->witwidget) (2.8.2)\n",
      "Requirement already satisfied: google-auth<3.0.0dev,>=1.19.0 in c:\\anaconda3\\lib\\site-packages (from google-api-python-client>=1.7.8->witwidget) (2.6.6)\n",
      "Requirement already satisfied: protobuf<5.0.0dev,>=3.15.0 in c:\\anaconda3\\lib\\site-packages (from google-api-core!=2.0.*,!=2.1.*,!=2.2.*,!=2.3.0,<3.0.0dev,>=1.31.5->google-api-python-client>=1.7.8->witwidget) (3.20.1)\n",
      "Requirement already satisfied: googleapis-common-protos<2.0dev,>=1.56.2 in c:\\anaconda3\\lib\\site-packages (from google-api-core!=2.0.*,!=2.1.*,!=2.2.*,!=2.3.0,<3.0.0dev,>=1.31.5->google-api-python-client>=1.7.8->witwidget) (1.56.4)\n",
      "Requirement already satisfied: requests<3.0.0dev,>=2.18.0 in c:\\anaconda3\\lib\\site-packages (from google-api-core!=2.0.*,!=2.1.*,!=2.2.*,!=2.3.0,<3.0.0dev,>=1.31.5->google-api-python-client>=1.7.8->witwidget) (2.25.1)\n",
      "Requirement already satisfied: rsa<5,>=3.1.4 in c:\\anaconda3\\lib\\site-packages (from google-auth<3.0.0dev,>=1.19.0->google-api-python-client>=1.7.8->witwidget) (4.8)\n",
      "Requirement already satisfied: pyasn1-modules>=0.2.1 in c:\\anaconda3\\lib\\site-packages (from google-auth<3.0.0dev,>=1.19.0->google-api-python-client>=1.7.8->witwidget) (0.2.8)\n",
      "Requirement already satisfied: cachetools<6.0,>=2.0.0 in c:\\anaconda3\\lib\\site-packages (from google-auth<3.0.0dev,>=1.19.0->google-api-python-client>=1.7.8->witwidget) (5.0.0)\n",
      "Requirement already satisfied: pyparsing!=3.0.0,!=3.0.1,!=3.0.2,!=3.0.3,<4,>=2.4.2 in c:\\anaconda3\\lib\\site-packages (from httplib2<1dev,>=0.15.0->google-api-python-client>=1.7.8->witwidget) (2.4.7)\n",
      "Requirement already satisfied: nbformat>=4.2.0 in c:\\anaconda3\\lib\\site-packages (from ipywidgets>=7.0.0->witwidget) (5.1.3)\n",
      "Requirement already satisfied: traitlets>=4.3.1 in c:\\anaconda3\\lib\\site-packages (from ipywidgets>=7.0.0->witwidget) (5.0.5)\n",
      "Requirement already satisfied: jupyterlab-widgets>=1.0.0 in c:\\anaconda3\\lib\\site-packages (from ipywidgets>=7.0.0->witwidget) (1.0.0)\n",
      "Requirement already satisfied: widgetsnbextension~=3.5.0 in c:\\anaconda3\\lib\\site-packages (from ipywidgets>=7.0.0->witwidget) (3.5.1)\n",
      "Requirement already satisfied: ipykernel>=4.5.1 in c:\\anaconda3\\lib\\site-packages (from ipywidgets>=7.0.0->witwidget) (5.3.4)\n",
      "Requirement already satisfied: ipython>=4.0.0 in c:\\anaconda3\\lib\\site-packages (from ipywidgets>=7.0.0->witwidget) (7.22.0)\n",
      "Requirement already satisfied: tornado>=4.2 in c:\\anaconda3\\lib\\site-packages (from ipykernel>=4.5.1->ipywidgets>=7.0.0->witwidget) (6.1)\n",
      "Requirement already satisfied: jupyter-client in c:\\anaconda3\\lib\\site-packages (from ipykernel>=4.5.1->ipywidgets>=7.0.0->witwidget) (6.1.12)\n",
      "Requirement already satisfied: jedi>=0.16 in c:\\anaconda3\\lib\\site-packages (from ipython>=4.0.0->ipywidgets>=7.0.0->witwidget) (0.17.2)\n",
      "Requirement already satisfied: prompt-toolkit!=3.0.0,!=3.0.1,<3.1.0,>=2.0.0 in c:\\anaconda3\\lib\\site-packages (from ipython>=4.0.0->ipywidgets>=7.0.0->witwidget) (3.0.17)\n",
      "Requirement already satisfied: pickleshare in c:\\anaconda3\\lib\\site-packages (from ipython>=4.0.0->ipywidgets>=7.0.0->witwidget) (0.7.5)\n",
      "Requirement already satisfied: backcall in c:\\anaconda3\\lib\\site-packages (from ipython>=4.0.0->ipywidgets>=7.0.0->witwidget) (0.2.0)\n",
      "Requirement already satisfied: decorator in c:\\anaconda3\\lib\\site-packages (from ipython>=4.0.0->ipywidgets>=7.0.0->witwidget) (5.0.6)\n",
      "Requirement already satisfied: pygments in c:\\anaconda3\\lib\\site-packages (from ipython>=4.0.0->ipywidgets>=7.0.0->witwidget) (2.8.1)\n",
      "Requirement already satisfied: setuptools>=18.5 in c:\\anaconda3\\lib\\site-packages (from ipython>=4.0.0->ipywidgets>=7.0.0->witwidget) (52.0.0.post20210125)\n",
      "Requirement already satisfied: colorama in c:\\anaconda3\\lib\\site-packages (from ipython>=4.0.0->ipywidgets>=7.0.0->witwidget) (0.4.4)\n",
      "Requirement already satisfied: parso<0.8.0,>=0.7.0 in c:\\anaconda3\\lib\\site-packages (from jedi>=0.16->ipython>=4.0.0->ipywidgets>=7.0.0->witwidget) (0.7.0)\n",
      "Requirement already satisfied: ipython-genutils in c:\\anaconda3\\lib\\site-packages (from nbformat>=4.2.0->ipywidgets>=7.0.0->witwidget) (0.2.0)\n",
      "Requirement already satisfied: jupyter-core in c:\\anaconda3\\lib\\site-packages (from nbformat>=4.2.0->ipywidgets>=7.0.0->witwidget) (4.7.1)\n",
      "Requirement already satisfied: jsonschema!=2.5.0,>=2.4 in c:\\anaconda3\\lib\\site-packages (from nbformat>=4.2.0->ipywidgets>=7.0.0->witwidget) (3.2.0)\n",
      "Requirement already satisfied: pyrsistent>=0.14.0 in c:\\anaconda3\\lib\\site-packages (from jsonschema!=2.5.0,>=2.4->nbformat>=4.2.0->ipywidgets>=7.0.0->witwidget) (0.17.3)\n",
      "Requirement already satisfied: attrs>=17.4.0 in c:\\anaconda3\\lib\\site-packages (from jsonschema!=2.5.0,>=2.4->nbformat>=4.2.0->ipywidgets>=7.0.0->witwidget) (20.3.0)\n",
      "Requirement already satisfied: pyasn1>=0.1.7 in c:\\anaconda3\\lib\\site-packages (from oauth2client>=4.1.3->witwidget) (0.4.8)\n",
      "Requirement already satisfied: wcwidth in c:\\anaconda3\\lib\\site-packages (from prompt-toolkit!=3.0.0,!=3.0.1,<3.1.0,>=2.0.0->ipython>=4.0.0->ipywidgets>=7.0.0->witwidget) (0.2.5)\n",
      "Requirement already satisfied: certifi>=2017.4.17 in c:\\anaconda3\\lib\\site-packages (from requests<3.0.0dev,>=2.18.0->google-api-core!=2.0.*,!=2.1.*,!=2.2.*,!=2.3.0,<3.0.0dev,>=1.31.5->google-api-python-client>=1.7.8->witwidget) (2020.12.5)\n",
      "Requirement already satisfied: urllib3<1.27,>=1.21.1 in c:\\anaconda3\\lib\\site-packages (from requests<3.0.0dev,>=2.18.0->google-api-core!=2.0.*,!=2.1.*,!=2.2.*,!=2.3.0,<3.0.0dev,>=1.31.5->google-api-python-client>=1.7.8->witwidget) (1.26.4)\n",
      "Requirement already satisfied: idna<3,>=2.5 in c:\\anaconda3\\lib\\site-packages (from requests<3.0.0dev,>=2.18.0->google-api-core!=2.0.*,!=2.1.*,!=2.2.*,!=2.3.0,<3.0.0dev,>=1.31.5->google-api-python-client>=1.7.8->witwidget) (2.10)\n",
      "Requirement already satisfied: chardet<5,>=3.0.2 in c:\\anaconda3\\lib\\site-packages (from requests<3.0.0dev,>=2.18.0->google-api-core!=2.0.*,!=2.1.*,!=2.2.*,!=2.3.0,<3.0.0dev,>=1.31.5->google-api-python-client>=1.7.8->witwidget) (4.0.0)\n",
      "Requirement already satisfied: gast>=0.2.1 in c:\\anaconda3\\lib\\site-packages (from tensorflow>=1.12.1->witwidget) (0.5.3)\n",
      "Requirement already satisfied: termcolor>=1.1.0 in c:\\anaconda3\\lib\\site-packages (from tensorflow>=1.12.1->witwidget) (1.1.0)\n",
      "Requirement already satisfied: opt-einsum>=2.3.2 in c:\\anaconda3\\lib\\site-packages (from tensorflow>=1.12.1->witwidget) (3.3.0)\n",
      "Requirement already satisfied: keras<2.9,>=2.8.0rc0 in c:\\anaconda3\\lib\\site-packages (from tensorflow>=1.12.1->witwidget) (2.8.0)\n",
      "Requirement already satisfied: libclang>=9.0.1 in c:\\anaconda3\\lib\\site-packages (from tensorflow>=1.12.1->witwidget) (14.0.1)\n",
      "Requirement already satisfied: grpcio<2.0,>=1.24.3 in c:\\anaconda3\\lib\\site-packages (from tensorflow>=1.12.1->witwidget) (1.44.0)\n",
      "Requirement already satisfied: numpy>=1.20 in c:\\anaconda3\\lib\\site-packages (from tensorflow>=1.12.1->witwidget) (1.20.1)\n",
      "Requirement already satisfied: tf-estimator-nightly==2.8.0.dev2021122109 in c:\\anaconda3\\lib\\site-packages (from tensorflow>=1.12.1->witwidget) (2.8.0.dev2021122109)\n",
      "Requirement already satisfied: wrapt>=1.11.0 in c:\\anaconda3\\lib\\site-packages (from tensorflow>=1.12.1->witwidget) (1.12.1)\n",
      "Requirement already satisfied: h5py>=2.9.0 in c:\\anaconda3\\lib\\site-packages (from tensorflow>=1.12.1->witwidget) (2.10.0)\n",
      "Requirement already satisfied: typing-extensions>=3.6.6 in c:\\anaconda3\\lib\\site-packages (from tensorflow>=1.12.1->witwidget) (3.7.4.3)\n",
      "Requirement already satisfied: astunparse>=1.6.0 in c:\\anaconda3\\lib\\site-packages (from tensorflow>=1.12.1->witwidget) (1.6.3)\n",
      "Requirement already satisfied: keras-preprocessing>=1.1.1 in c:\\anaconda3\\lib\\site-packages (from tensorflow>=1.12.1->witwidget) (1.1.2)\n",
      "Requirement already satisfied: google-pasta>=0.1.1 in c:\\anaconda3\\lib\\site-packages (from tensorflow>=1.12.1->witwidget) (0.2.0)\n",
      "Requirement already satisfied: flatbuffers>=1.12 in c:\\anaconda3\\lib\\site-packages (from tensorflow>=1.12.1->witwidget) (2.0)\n",
      "Requirement already satisfied: tensorflow-io-gcs-filesystem>=0.23.1 in c:\\anaconda3\\lib\\site-packages (from tensorflow>=1.12.1->witwidget) (0.25.0)\n",
      "Requirement already satisfied: tensorboard<2.9,>=2.8 in c:\\anaconda3\\lib\\site-packages (from tensorflow>=1.12.1->witwidget) (2.8.0)\n",
      "Requirement already satisfied: wheel<1.0,>=0.23.0 in c:\\anaconda3\\lib\\site-packages (from astunparse>=1.6.0->tensorflow>=1.12.1->witwidget) (0.36.2)\n",
      "Requirement already satisfied: tensorboard-plugin-wit>=1.6.0 in c:\\anaconda3\\lib\\site-packages (from tensorboard<2.9,>=2.8->tensorflow>=1.12.1->witwidget) (1.8.1)\n",
      "Requirement already satisfied: tensorboard-data-server<0.7.0,>=0.6.0 in c:\\anaconda3\\lib\\site-packages (from tensorboard<2.9,>=2.8->tensorflow>=1.12.1->witwidget) (0.6.1)\n",
      "Requirement already satisfied: google-auth-oauthlib<0.5,>=0.4.1 in c:\\anaconda3\\lib\\site-packages (from tensorboard<2.9,>=2.8->tensorflow>=1.12.1->witwidget) (0.4.6)\n",
      "Requirement already satisfied: werkzeug>=0.11.15 in c:\\anaconda3\\lib\\site-packages (from tensorboard<2.9,>=2.8->tensorflow>=1.12.1->witwidget) (1.0.1)\n",
      "Requirement already satisfied: markdown>=2.6.8 in c:\\anaconda3\\lib\\site-packages (from tensorboard<2.9,>=2.8->tensorflow>=1.12.1->witwidget) (3.3.6)\n",
      "Requirement already satisfied: requests-oauthlib>=0.7.0 in c:\\anaconda3\\lib\\site-packages (from google-auth-oauthlib<0.5,>=0.4.1->tensorboard<2.9,>=2.8->tensorflow>=1.12.1->witwidget) (1.3.1)\n",
      "Requirement already satisfied: importlib-metadata>=4.4 in c:\\anaconda3\\lib\\site-packages (from markdown>=2.6.8->tensorboard<2.9,>=2.8->tensorflow>=1.12.1->witwidget) (4.12.0)\n",
      "Requirement already satisfied: zipp>=0.5 in c:\\anaconda3\\lib\\site-packages (from importlib-metadata>=4.4->markdown>=2.6.8->tensorboard<2.9,>=2.8->tensorflow>=1.12.1->witwidget) (3.4.1)\n",
      "Requirement already satisfied: oauthlib>=3.0.0 in c:\\anaconda3\\lib\\site-packages (from requests-oauthlib>=0.7.0->google-auth-oauthlib<0.5,>=0.4.1->tensorboard<2.9,>=2.8->tensorflow>=1.12.1->witwidget) (3.2.0)\n",
      "Requirement already satisfied: notebook>=4.4.1 in c:\\anaconda3\\lib\\site-packages (from widgetsnbextension~=3.5.0->ipywidgets>=7.0.0->witwidget) (6.3.0)\n",
      "Requirement already satisfied: argon2-cffi in c:\\anaconda3\\lib\\site-packages (from notebook>=4.4.1->widgetsnbextension~=3.5.0->ipywidgets>=7.0.0->witwidget) (20.1.0)\n",
      "Requirement already satisfied: nbconvert in c:\\anaconda3\\lib\\site-packages (from notebook>=4.4.1->widgetsnbextension~=3.5.0->ipywidgets>=7.0.0->witwidget) (6.0.7)\n",
      "Requirement already satisfied: terminado>=0.8.3 in c:\\anaconda3\\lib\\site-packages (from notebook>=4.4.1->widgetsnbextension~=3.5.0->ipywidgets>=7.0.0->witwidget) (0.9.4)\n",
      "Requirement already satisfied: jinja2 in c:\\anaconda3\\lib\\site-packages (from notebook>=4.4.1->widgetsnbextension~=3.5.0->ipywidgets>=7.0.0->witwidget) (2.11.3)\n",
      "Requirement already satisfied: prometheus-client in c:\\anaconda3\\lib\\site-packages (from notebook>=4.4.1->widgetsnbextension~=3.5.0->ipywidgets>=7.0.0->witwidget) (0.10.1)\n",
      "Requirement already satisfied: Send2Trash>=1.5.0 in c:\\anaconda3\\lib\\site-packages (from notebook>=4.4.1->widgetsnbextension~=3.5.0->ipywidgets>=7.0.0->witwidget) (1.5.0)\n",
      "Requirement already satisfied: pyzmq>=17 in c:\\anaconda3\\lib\\site-packages (from notebook>=4.4.1->widgetsnbextension~=3.5.0->ipywidgets>=7.0.0->witwidget) (20.0.0)\n",
      "Requirement already satisfied: python-dateutil>=2.1 in c:\\anaconda3\\lib\\site-packages (from jupyter-client->ipykernel>=4.5.1->ipywidgets>=7.0.0->witwidget) (2.8.1)\n",
      "Requirement already satisfied: pywin32>=1.0 in c:\\anaconda3\\lib\\site-packages (from jupyter-core->nbformat>=4.2.0->ipywidgets>=7.0.0->witwidget) (227)\n"
     ]
    },
    {
     "name": "stdout",
     "output_type": "stream",
     "text": [
      "Requirement already satisfied: pywinpty>=0.5 in c:\\anaconda3\\lib\\site-packages (from terminado>=0.8.3->notebook>=4.4.1->widgetsnbextension~=3.5.0->ipywidgets>=7.0.0->witwidget) (0.5.7)\n",
      "Requirement already satisfied: cffi>=1.0.0 in c:\\anaconda3\\lib\\site-packages (from argon2-cffi->notebook>=4.4.1->widgetsnbextension~=3.5.0->ipywidgets>=7.0.0->witwidget) (1.14.5)\n",
      "Requirement already satisfied: pycparser in c:\\anaconda3\\lib\\site-packages (from cffi>=1.0.0->argon2-cffi->notebook>=4.4.1->widgetsnbextension~=3.5.0->ipywidgets>=7.0.0->witwidget) (2.20)\n",
      "Requirement already satisfied: MarkupSafe>=0.23 in c:\\anaconda3\\lib\\site-packages (from jinja2->notebook>=4.4.1->widgetsnbextension~=3.5.0->ipywidgets>=7.0.0->witwidget) (1.1.1)\n",
      "Requirement already satisfied: testpath in c:\\anaconda3\\lib\\site-packages (from nbconvert->notebook>=4.4.1->widgetsnbextension~=3.5.0->ipywidgets>=7.0.0->witwidget) (0.4.4)\n",
      "Requirement already satisfied: jupyterlab-pygments in c:\\anaconda3\\lib\\site-packages (from nbconvert->notebook>=4.4.1->widgetsnbextension~=3.5.0->ipywidgets>=7.0.0->witwidget) (0.1.2)\n",
      "Requirement already satisfied: bleach in c:\\anaconda3\\lib\\site-packages (from nbconvert->notebook>=4.4.1->widgetsnbextension~=3.5.0->ipywidgets>=7.0.0->witwidget) (3.3.0)\n",
      "Requirement already satisfied: pandocfilters>=1.4.1 in c:\\anaconda3\\lib\\site-packages (from nbconvert->notebook>=4.4.1->widgetsnbextension~=3.5.0->ipywidgets>=7.0.0->witwidget) (1.4.3)\n",
      "Requirement already satisfied: defusedxml in c:\\anaconda3\\lib\\site-packages (from nbconvert->notebook>=4.4.1->widgetsnbextension~=3.5.0->ipywidgets>=7.0.0->witwidget) (0.7.1)\n",
      "Requirement already satisfied: nbclient<0.6.0,>=0.5.0 in c:\\anaconda3\\lib\\site-packages (from nbconvert->notebook>=4.4.1->widgetsnbextension~=3.5.0->ipywidgets>=7.0.0->witwidget) (0.5.3)\n",
      "Requirement already satisfied: entrypoints>=0.2.2 in c:\\anaconda3\\lib\\site-packages (from nbconvert->notebook>=4.4.1->widgetsnbextension~=3.5.0->ipywidgets>=7.0.0->witwidget) (0.3)\n",
      "Requirement already satisfied: mistune<2,>=0.8.1 in c:\\anaconda3\\lib\\site-packages (from nbconvert->notebook>=4.4.1->widgetsnbextension~=3.5.0->ipywidgets>=7.0.0->witwidget) (0.8.4)\n",
      "Requirement already satisfied: async-generator in c:\\anaconda3\\lib\\site-packages (from nbclient<0.6.0,>=0.5.0->nbconvert->notebook>=4.4.1->widgetsnbextension~=3.5.0->ipywidgets>=7.0.0->witwidget) (1.10)\n",
      "Requirement already satisfied: nest-asyncio in c:\\anaconda3\\lib\\site-packages (from nbclient<0.6.0,>=0.5.0->nbconvert->notebook>=4.4.1->widgetsnbextension~=3.5.0->ipywidgets>=7.0.0->witwidget) (1.5.1)\n",
      "Requirement already satisfied: webencodings in c:\\anaconda3\\lib\\site-packages (from bleach->nbconvert->notebook>=4.4.1->widgetsnbextension~=3.5.0->ipywidgets>=7.0.0->witwidget) (0.5.1)\n",
      "Requirement already satisfied: packaging in c:\\anaconda3\\lib\\site-packages (from bleach->nbconvert->notebook>=4.4.1->widgetsnbextension~=3.5.0->ipywidgets>=7.0.0->witwidget) (21.3)\n"
     ]
    }
   ],
   "source": [
    "!pip install --upgrade witwidget"
   ]
  },
  {
   "cell_type": "code",
   "execution_count": 18,
   "id": "c1f3df8e",
   "metadata": {},
   "outputs": [],
   "source": [
    "from witwidget.notebook.visualization import WitConfigBuilder\n",
    "config_builder = WitConfigBuilder(\n",
    "    test_examples.tolist(),\n",
    "    feature_names=['sex', 'job', 'housing', 'saving_accounts', 'checking_account','credit_amount', 'duration', 'purpose', 'age', 'risk'])\\\n",
    ".set_custom_predict_fn(xgboost_pred).set_target_feature('risk')"
   ]
  },
  {
   "cell_type": "code",
   "execution_count": 19,
   "id": "d3d3d73e",
   "metadata": {},
   "outputs": [
    {
     "data": {
      "text/html": [
       "<style>.container { width:100% !important; }</style>"
      ],
      "text/plain": [
       "<IPython.core.display.HTML object>"
      ]
     },
     "metadata": {},
     "output_type": "display_data"
    },
    {
     "data": {
      "application/vnd.jupyter.widget-view+json": {
       "model_id": "bbdcff608a064472aa9343009c6ee644",
       "version_major": 2,
       "version_minor": 0
      },
      "text/plain": [
       "WitWidget(config={'model_type': 'classification', 'label_vocab': [], 'feature_names': ['sex', 'job', 'housing'…"
      ]
     },
     "metadata": {},
     "output_type": "display_data"
    }
   ],
   "source": [
    "from witwidget.notebook.visualization import WitWidget\n",
    "WitWidget(config_builder, height=600)"
   ]
  },
  {
   "cell_type": "markdown",
   "id": "f95c3cbd",
   "metadata": {},
   "source": [
    "# Example 3 - synthetic_credit_card_approval.csv"
   ]
  },
  {
   "cell_type": "code",
   "execution_count": 20,
   "id": "abe71ab2",
   "metadata": {},
   "outputs": [],
   "source": [
    "import pandas as pd"
   ]
  },
  {
   "cell_type": "code",
   "execution_count": 21,
   "id": "b236c2f2",
   "metadata": {},
   "outputs": [
    {
     "data": {
      "text/plain": [
       "(500000, 6)"
      ]
     },
     "execution_count": 21,
     "metadata": {},
     "output_type": "execute_result"
    }
   ],
   "source": [
    "df = pd.read_csv(\"https://raw.githubusercontent.com/manoelgadi/fairdetect/master/datasets/synthetic_credit_card_approval.csv\")\n",
    "df.shape"
   ]
  },
  {
   "cell_type": "code",
   "execution_count": 22,
   "id": "7b69b858",
   "metadata": {},
   "outputs": [],
   "source": [
    "# solution for the need for loggin problem, work with a 10% sample instead the whole 500k rows!"
   ]
  },
  {
   "cell_type": "code",
   "execution_count": 23,
   "id": "0d6967c8",
   "metadata": {},
   "outputs": [],
   "source": [
    "df = df.sample(50000)"
   ]
  },
  {
   "cell_type": "code",
   "execution_count": 24,
   "id": "67191ad6",
   "metadata": {},
   "outputs": [
    {
     "name": "stdout",
     "output_type": "stream",
     "text": [
      "Data sucessfully loaded!\n"
     ]
    }
   ],
   "source": [
    "import pandas as pd\n",
    "import numpy as np\n",
    "from sklearn.model_selection import train_test_split\n",
    "X = df.drop([\"Target\"],axis=1) # axis: {0 or ‘index’, 1 or ‘columns’}, default 0\n",
    "y = df[[\"Target\"]]\n",
    "\n",
    "\n",
    "#train_x, test_x, train_y, test_y\n",
    "X_train, X_test, y_train, y_test = train_test_split(X,y,train_size=0.8, test_size=0.2, random_state=0)\n",
    "print(\"Data sucessfully loaded!\")"
   ]
  },
  {
   "cell_type": "code",
   "execution_count": 25,
   "id": "6f4aa4a3",
   "metadata": {},
   "outputs": [
    {
     "name": "stdout",
     "output_type": "stream",
     "text": [
      "Requirement already satisfied: xgboost in c:\\anaconda3\\lib\\site-packages (1.6.1)\n",
      "Requirement already satisfied: numpy in c:\\anaconda3\\lib\\site-packages (from xgboost) (1.20.1)\n",
      "Requirement already satisfied: scipy in c:\\anaconda3\\lib\\site-packages (from xgboost) (1.6.2)\n"
     ]
    },
    {
     "data": {
      "text/plain": [
       "array([1, 0, 1, ..., 1, 1, 0])"
      ]
     },
     "execution_count": 25,
     "metadata": {},
     "output_type": "execute_result"
    }
   ],
   "source": [
    "!pip install xgboost\n",
    "\n",
    "import xgboost\n",
    "xgboost_model = xgboost.XGBClassifier().fit(X_train, y_train)\n",
    "y_test_predict = xgboost_model.predict(X_test)\n",
    "y_test_predict"
   ]
  },
  {
   "cell_type": "code",
   "execution_count": 26,
   "id": "c8232309",
   "metadata": {},
   "outputs": [],
   "source": [
    "# adaptation between tensor to sklearn/pandas\n",
    "def xgboost_pred2(testset):\n",
    "    probs = xgboost_model2.predict_proba(testset[:, :-1])\n",
    "    return prob.tolist()\n",
    "\n",
    "import numpy as np\n",
    "\n",
    "test_examples = np.hstack((X_test,\n",
    "                           y_test))"
   ]
  },
  {
   "cell_type": "code",
   "execution_count": 27,
   "id": "7344727a",
   "metadata": {},
   "outputs": [
    {
     "data": {
      "text/plain": [
       "Index(['Num_Children', 'Group', 'Income', 'Own_Car', 'Own_Housing', 'Target'], dtype='object')"
      ]
     },
     "execution_count": 27,
     "metadata": {},
     "output_type": "execute_result"
    }
   ],
   "source": [
    "df.columns"
   ]
  },
  {
   "cell_type": "code",
   "execution_count": 29,
   "id": "f12a879a",
   "metadata": {},
   "outputs": [],
   "source": [
    "from witwidget.notebook.visualization import WitConfigBuilder\n",
    "config_builder = WitConfigBuilder(\n",
    "    test_examples.tolist(),\n",
    "    feature_names=['Num_Children', 'Group', 'Income', 'Own_Car', 'Own_Housing', 'Target'])\\\n",
    ".set_custom_predict_fn(xgboost_pred).set_target_feature('Target')"
   ]
  },
  {
   "cell_type": "code",
   "execution_count": 30,
   "id": "fa6015f1",
   "metadata": {},
   "outputs": [
    {
     "data": {
      "text/html": [
       "<style>.container { width:100% !important; }</style>"
      ],
      "text/plain": [
       "<IPython.core.display.HTML object>"
      ]
     },
     "metadata": {},
     "output_type": "display_data"
    },
    {
     "data": {
      "application/vnd.jupyter.widget-view+json": {
       "model_id": "587e29779f91462faf1a1cee614064ff",
       "version_major": 2,
       "version_minor": 0
      },
      "text/plain": [
       "WitWidget(config={'model_type': 'classification', 'label_vocab': [], 'feature_names': ['Num_Children', 'Group'…"
      ]
     },
     "metadata": {},
     "output_type": "display_data"
    }
   ],
   "source": [
    "from witwidget.notebook.visualization import WitWidget\n",
    "WitWidget(config_builder, height=600)"
   ]
  },
  {
   "cell_type": "code",
   "execution_count": null,
   "id": "9b1a56e8",
   "metadata": {},
   "outputs": [],
   "source": []
  },
  {
   "cell_type": "code",
   "execution_count": null,
   "id": "9ca2ca3e",
   "metadata": {},
   "outputs": [],
   "source": []
  },
  {
   "cell_type": "code",
   "execution_count": null,
   "id": "ed4cc328",
   "metadata": {},
   "outputs": [],
   "source": []
  },
  {
   "cell_type": "code",
   "execution_count": null,
   "id": "36b90ebf",
   "metadata": {},
   "outputs": [],
   "source": []
  },
  {
   "cell_type": "code",
   "execution_count": null,
   "id": "47568e88",
   "metadata": {},
   "outputs": [],
   "source": []
  },
  {
   "cell_type": "code",
   "execution_count": null,
   "id": "27b9b8ec",
   "metadata": {},
   "outputs": [],
   "source": []
  },
  {
   "cell_type": "code",
   "execution_count": null,
   "id": "c0ca10d0",
   "metadata": {},
   "outputs": [],
   "source": []
  },
  {
   "cell_type": "code",
   "execution_count": null,
   "id": "05aa8eb5",
   "metadata": {},
   "outputs": [],
   "source": []
  }
 ],
 "metadata": {
  "kernelspec": {
   "display_name": "Python 3",
   "language": "python",
   "name": "python3"
  },
  "language_info": {
   "codemirror_mode": {
    "name": "ipython",
    "version": 3
   },
   "file_extension": ".py",
   "mimetype": "text/x-python",
   "name": "python",
   "nbconvert_exporter": "python",
   "pygments_lexer": "ipython3",
   "version": "3.8.8"
  }
 },
 "nbformat": 4,
 "nbformat_minor": 5
}
